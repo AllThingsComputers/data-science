# Importing necessary libraries
import pandas as pd
from sklearn.tree import DecisionTreeClassifier, export_graphviz
from sklearn.model_selection import train_test_split
from sklearn.metrics import accuracy_score
import numpy as np
import joblib

# Load the dataset
image_load_data = pd.read_csv('SysmonEID3.csv')

# Ensure the dataset contains the required columns
if not {'src_port', 'dst_port', 'process_path'}.issubset(image_load_data.columns):
    raise ValueError("Dataset must contain 'src_port', 'dst_port', and 'process_path' columns.")

# Prepare features (X) and target (y)
X = image_load_data[['src_port', 'dst_port']]
y = image_load_data['process_path']

# Split the dataset into training and testing sets
X_train, X_test, y_train, y_test = train_test_split(X, y, test_size=0.2, random_state=42)

# Initialize and train the Decision Tree model
model = DecisionTreeClassifier(random_state=42)
model.fit(X_train, y_train)

# Evaluate the model
predictions = model.predict(X_test)
score = accuracy_score(y_test, predictions)
print(f"Model Accuracy: {score:.2f}")

# Save the trained model
joblib.dump(model, 'EID3-process-predictor.joblib')
print("Model saved as 'EID3-process-predictor.joblib'.")

# Load the model and make predictions
loaded_model = joblib.load('EID3-process-predictor.joblib')
sample_prediction = loaded_model.predict([[62856, 3389]])  # Example input
print(f"Prediction for [62856, 3389]: {sample_prediction[0]}")

# Visualize the Decision Tree
tree_file = 'EID3-process-predictor.dot'
export_graphviz(
    model,
    out_file=tree_file,
    feature_names=['src_port', 'dst_port'],
    class_names=sorted(y.unique()),
    label='all',
    rounded=True,
    filled=True
)
print(f"Decision tree visualization saved as '{tree_file}'.")
