# Import required libraries
import pandas as pd
import numpy as np
import matplotlib.pyplot as plt
from datetime import datetime, timedelta
from pandas.plotting import register_matplotlib_converters
from statsmodels.tsa.statespace.sarimax import SARIMAX
from statsmodels.tsa.stattools import acf, pacf

register_matplotlib_converters()

# Define date parser function
def parser(s):
    return datetime.strptime(s, "%d/%m/%Y")

# Load and prepare data
password_resets = pd.read_csv(
    'Anomaly_Time_Series2.csv',
    parse_dates=[0],
    index_col=0,
    date_parser=parser
)

# Infer the frequency of the data
password_resets = password_resets.asfreq(pd.infer_freq(password_resets.index))

# Set start and end dates
start_date = datetime(2021, 1, 1)
end_date = datetime(2023, 4, 20)
lim_password_resets = password_resets[start_date:end_date]

# Inject an anomaly at December 1, 2021
lim_password_resets.loc[datetime(2021, 12, 1)] = 50

# Plot the data
plt.figure(figsize=(10, 4))
plt.plot(lim_password_resets)
plt.title('Password Resets', fontsize=20)
plt.ylabel('Resets', fontsize=16)
for year in range(start_date.year, end_date.year + 1):
    plt.axvline(pd.to_datetime(f"{year}-01-01"), color='k', linestyle='--', alpha=0.2)
plt.show()

# First difference of the data
first_diff = lim_password_resets.diff().dropna()

# Plot first difference
plt.figure(figsize=(10, 4))
plt.plot(first_diff)
plt.title('First Difference of Password Resets', fontsize=20)
plt.ylabel('Resets', fontsize=16)
for year in range(start_date.year, end_date.year + 1):
    plt.axvline(pd.to_datetime(f"{year}-01-01"), color='k', linestyle='--', alpha=0.2)
plt.axhline(0, color='k', linestyle='--', alpha=0.2)
plt.show()

# Define SARIMA orders
my_order = (0, 1, 0)
my_seasonal_order = (1, 0, 1, 12)

# Train/test split
train_end = datetime(2022, 12, 31)
test_start = train_end + timedelta(days=1)
test_end = datetime(2023, 4, 20)

train_data = lim_password_resets[:train_end]
test_data = lim_password_resets[test_start:test_end]

# Rolling predictions
rolling_predictions = test_data.copy()

for train_end in test_data.index:
    train_subset = lim_password_resets[:train_end - timedelta(days=1)]
    model = SARIMAX(train_subset, order=my_order, seasonal_order=my_seasonal_order)
    model_fit = model.fit(disp=False)
    pred = model_fit.forecast(steps=1)
    rolling_predictions.loc[train_end] = pred

# Calculate residuals
rolling_residuals = test_data - rolling_predictions

# Plot residuals
plt.figure(figsize=(10, 4))
plt.plot(rolling_residuals)
plt.axhline(0, linestyle='--', color='k')
plt.title('Rolling Forecast Residuals from SARIMA Model', fontsize=20)
plt.ylabel('Error', fontsize=16)
plt.show()

# Plot actual vs predicted
plt.figure(figsize=(10, 4))
plt.plot(lim_password_resets, label='Actual Data', alpha=0.7)
plt.plot(rolling_predictions, label='Predictions', color='orange')
plt.legend(fontsize=16)
plt.title('Password Resets - Actual vs Predicted', fontsize=20)
plt.ylabel('Resets', fontsize=16)
for year in range(start_date.year, end_date.year + 1):
    plt.axvline(pd.to_datetime(f"{year}-01-01"), color='k', linestyle='--', alpha=0.2)
plt.show()

# Calculate error metrics
mape = np.mean(np.abs(rolling_residuals / test_data)) * 100
rmse = np.sqrt(np.mean(rolling_residuals**2))

print(f"Mean Absolute Percentage Error (MAPE): {mape:.2f}%")
print(f"Root Mean Squared Error (RMSE): {rmse:.2f}")
